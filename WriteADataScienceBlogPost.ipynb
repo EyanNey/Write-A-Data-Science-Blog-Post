{
 "cells": [
  {
   "cell_type": "markdown",
   "metadata": {},
   "source": [
    "# Project: Write A Data Science Blog Post\n",
    "\n",
    "**Data source: Seattle and Boston AirBNB data (http://insideairbnb.com/get-the-data.html)**\n",
    "\n",
    "First, let's do the below before start:\n",
    "<br>\n",
    "i) Assign working directory\n",
    "<br>\n",
    "ii) Read in necessary libraries\n",
    "<br>\n",
    "ii) Import the data"
   ]
  },
  {
   "cell_type": "code",
   "execution_count": null,
   "metadata": {},
   "outputs": [],
   "source": [
    "## Assign working directory"
   ]
  },
  {
   "cell_type": "code",
   "execution_count": 1,
   "metadata": {},
   "outputs": [
    {
     "name": "stdout",
     "output_type": "stream",
     "text": [
      "C:\\Users\\eyanney\\Udacity Data Scientist\n"
     ]
    }
   ],
   "source": [
    "cd C:\\Users\\eyanney\\Udacity Data Scientist"
   ]
  },
  {
   "cell_type": "code",
   "execution_count": 2,
   "metadata": {},
   "outputs": [],
   "source": [
    "## Read in necessary libraries\n",
    "import numpy as np\n",
    "import pandas as pd\n",
    "import operator\n",
    "import matplotlib.pyplot as plt\n",
    "%matplotlib inline\n",
    "import seaborn as sns\n",
    "import datetime as dt\n",
    "\n",
    "from re import sub\n",
    "from decimal import Decimal\n",
    "from sklearn.feature_extraction.text import CountVectorizer\n",
    "\n",
    "### To change the columns' display setting\n",
    "pd.set_option('display.max_colwidth', -1)"
   ]
  },
  {
   "cell_type": "code",
   "execution_count": 3,
   "metadata": {},
   "outputs": [],
   "source": [
    "## Import the data\n",
    "\n",
    "##**Seattle**##\n",
    "s_calendar = pd.read_csv('./Term 2/Write A Data Science Blog Post/seattle/calendar.csv')\n",
    "s_listings = pd.read_csv('./Term 2/Write A Data Science Blog Post/seattle/listings.csv')\n",
    "s_reviews = pd.read_csv('./Term 2/Write A Data Science Blog Post/seattle/reviews.csv')\n",
    "\n",
    "##**Boston**##\n",
    "b_calendar = pd.read_csv('./Term 2/Write A Data Science Blog Post/boston/calendar.csv')\n",
    "b_listings = pd.read_csv('./Term 2/Write A Data Science Blog Post/boston/listings.csv')\n",
    "b_reviews = pd.read_csv('./Term 2/Write A Data Science Blog Post/boston/reviews.csv')\n",
    "\n",
    "## Concatenate \"Seattle\" & \"Boston\" ##\n",
    "calendar = pd.concat([s_calendar.assign(city='Seattle'), b_calendar.assign(city='Boston')], sort=False)\n",
    "listings = pd.concat([s_listings.assign(city='Seattle'), b_listings.assign(city='Boston')], sort=False)\n",
    "reviews = pd.concat([s_reviews.assign(city='Seattle'), b_reviews.assign(city='Boston')], sort=False)"
   ]
  },
  {
   "cell_type": "markdown",
   "metadata": {},
   "source": [
    "### Question 1\n",
    "\n",
    "**Any seasonality impact to AirBNB monthly average rental from both Seattle and Boston cities ?**"
   ]
  },
  {
   "cell_type": "code",
   "execution_count": 4,
   "metadata": {},
   "outputs": [],
   "source": [
    "# Convert the \"price\" to numeric\n",
    "calendar = calendar.assign(price_value=calendar[['price']].replace('[\\$,]','',regex=True).astype(float)) \n",
    "calendar = calendar.assign(date_format=pd.to_datetime(calendar['date'], format=\"%Y-%m-%d\"))\n",
    "calendar = calendar.assign(year=calendar['date_format'].dt.year, month=calendar['date_format'].dt.month, day=calendar['date_format'].dt.day, month_year=calendar['date_format'].dt.strftime('%Y-%m'))"
   ]
  },
  {
   "cell_type": "code",
   "execution_count": 5,
   "metadata": {},
   "outputs": [],
   "source": [
    "BMH = [5, 6, 7, 8, 9, 10]\n",
    "BMS = [3, 4]\n",
    "BML = [1, 2, 11, 12]\n",
    "SMH = [6, 7, 8]\n",
    "SMS = [4, 5, 9, 10]\n",
    "SML = [1, 2, 3, 11, 12]\n",
    "\n",
    "conditions = [\n",
    "    (((calendar['city'] == 'Boston') & (calendar['month'].isin(BMH))) | \n",
    "     ((calendar['city'] == 'Seattle') & (calendar['month'].isin(SMH)))),    \n",
    "    (((calendar['city'] == 'Boston') & (calendar['month'].isin(BMS))) | \n",
    "     ((calendar['city'] == 'Seattle') & (calendar['month'].isin(SMS)))),    \n",
    "    (((calendar['city'] == 'Boston') & (calendar['month'].isin(BML))) | \n",
    "     ((calendar['city'] == 'Seattle') & (calendar['month'].isin(SML))))]\n",
    "seasonality = ['High', 'Shoulder', 'Low']\n",
    "\n",
    "calendar['seasonality'] = np.select(conditions, seasonality, default='NA')"
   ]
  },
  {
   "cell_type": "code",
   "execution_count": 6,
   "metadata": {},
   "outputs": [
    {
     "data": {
      "text/html": [
       "<div>\n",
       "<style scoped>\n",
       "    .dataframe tbody tr th:only-of-type {\n",
       "        vertical-align: middle;\n",
       "    }\n",
       "\n",
       "    .dataframe tbody tr th {\n",
       "        vertical-align: top;\n",
       "    }\n",
       "\n",
       "    .dataframe thead th {\n",
       "        text-align: right;\n",
       "    }\n",
       "</style>\n",
       "<table border=\"1\" class=\"dataframe\">\n",
       "  <thead>\n",
       "    <tr style=\"text-align: right;\">\n",
       "      <th></th>\n",
       "      <th>listing_id</th>\n",
       "      <th>date</th>\n",
       "      <th>available</th>\n",
       "      <th>price</th>\n",
       "      <th>city</th>\n",
       "      <th>price_value</th>\n",
       "      <th>date_format</th>\n",
       "      <th>year</th>\n",
       "      <th>month</th>\n",
       "      <th>day</th>\n",
       "      <th>month_year</th>\n",
       "      <th>seasonality</th>\n",
       "    </tr>\n",
       "  </thead>\n",
       "  <tbody>\n",
       "    <tr>\n",
       "      <th>0</th>\n",
       "      <td>241032</td>\n",
       "      <td>2016-01-04</td>\n",
       "      <td>t</td>\n",
       "      <td>$85.00</td>\n",
       "      <td>Seattle</td>\n",
       "      <td>85.0</td>\n",
       "      <td>2016-01-04</td>\n",
       "      <td>2016</td>\n",
       "      <td>1</td>\n",
       "      <td>4</td>\n",
       "      <td>2016-01</td>\n",
       "      <td>Low</td>\n",
       "    </tr>\n",
       "    <tr>\n",
       "      <th>1</th>\n",
       "      <td>241032</td>\n",
       "      <td>2016-01-05</td>\n",
       "      <td>t</td>\n",
       "      <td>$85.00</td>\n",
       "      <td>Seattle</td>\n",
       "      <td>85.0</td>\n",
       "      <td>2016-01-05</td>\n",
       "      <td>2016</td>\n",
       "      <td>1</td>\n",
       "      <td>5</td>\n",
       "      <td>2016-01</td>\n",
       "      <td>Low</td>\n",
       "    </tr>\n",
       "    <tr>\n",
       "      <th>2</th>\n",
       "      <td>241032</td>\n",
       "      <td>2016-01-06</td>\n",
       "      <td>f</td>\n",
       "      <td>NaN</td>\n",
       "      <td>Seattle</td>\n",
       "      <td>NaN</td>\n",
       "      <td>2016-01-06</td>\n",
       "      <td>2016</td>\n",
       "      <td>1</td>\n",
       "      <td>6</td>\n",
       "      <td>2016-01</td>\n",
       "      <td>Low</td>\n",
       "    </tr>\n",
       "    <tr>\n",
       "      <th>3</th>\n",
       "      <td>241032</td>\n",
       "      <td>2016-01-07</td>\n",
       "      <td>f</td>\n",
       "      <td>NaN</td>\n",
       "      <td>Seattle</td>\n",
       "      <td>NaN</td>\n",
       "      <td>2016-01-07</td>\n",
       "      <td>2016</td>\n",
       "      <td>1</td>\n",
       "      <td>7</td>\n",
       "      <td>2016-01</td>\n",
       "      <td>Low</td>\n",
       "    </tr>\n",
       "    <tr>\n",
       "      <th>4</th>\n",
       "      <td>241032</td>\n",
       "      <td>2016-01-08</td>\n",
       "      <td>f</td>\n",
       "      <td>NaN</td>\n",
       "      <td>Seattle</td>\n",
       "      <td>NaN</td>\n",
       "      <td>2016-01-08</td>\n",
       "      <td>2016</td>\n",
       "      <td>1</td>\n",
       "      <td>8</td>\n",
       "      <td>2016-01</td>\n",
       "      <td>Low</td>\n",
       "    </tr>\n",
       "  </tbody>\n",
       "</table>\n",
       "</div>"
      ],
      "text/plain": [
       "   listing_id        date available   price     city  price_value date_format  \\\n",
       "0  241032      2016-01-04  t         $85.00  Seattle  85.0        2016-01-04    \n",
       "1  241032      2016-01-05  t         $85.00  Seattle  85.0        2016-01-05    \n",
       "2  241032      2016-01-06  f         NaN     Seattle NaN          2016-01-06    \n",
       "3  241032      2016-01-07  f         NaN     Seattle NaN          2016-01-07    \n",
       "4  241032      2016-01-08  f         NaN     Seattle NaN          2016-01-08    \n",
       "\n",
       "   year  month  day month_year seasonality  \n",
       "0  2016  1      4    2016-01    Low         \n",
       "1  2016  1      5    2016-01    Low         \n",
       "2  2016  1      6    2016-01    Low         \n",
       "3  2016  1      7    2016-01    Low         \n",
       "4  2016  1      8    2016-01    Low         "
      ]
     },
     "execution_count": 6,
     "metadata": {},
     "output_type": "execute_result"
    }
   ],
   "source": [
    "calendar.head()"
   ]
  },
  {
   "cell_type": "code",
   "execution_count": 7,
   "metadata": {},
   "outputs": [],
   "source": [
    "# Only study records with available = 't'\n",
    "calendar_t = calendar[calendar.available == 't']"
   ]
  },
  {
   "cell_type": "code",
   "execution_count": 8,
   "metadata": {},
   "outputs": [
    {
     "data": {
      "text/html": [
       "<div>\n",
       "<style scoped>\n",
       "    .dataframe tbody tr th:only-of-type {\n",
       "        vertical-align: middle;\n",
       "    }\n",
       "\n",
       "    .dataframe tbody tr th {\n",
       "        vertical-align: top;\n",
       "    }\n",
       "\n",
       "    .dataframe thead th {\n",
       "        text-align: right;\n",
       "    }\n",
       "</style>\n",
       "<table border=\"1\" class=\"dataframe\">\n",
       "  <thead>\n",
       "    <tr style=\"text-align: right;\">\n",
       "      <th></th>\n",
       "      <th>listing_id</th>\n",
       "      <th>date</th>\n",
       "      <th>available</th>\n",
       "      <th>price</th>\n",
       "      <th>city</th>\n",
       "      <th>price_value</th>\n",
       "      <th>date_format</th>\n",
       "      <th>year</th>\n",
       "      <th>month</th>\n",
       "      <th>day</th>\n",
       "      <th>month_year</th>\n",
       "      <th>seasonality</th>\n",
       "    </tr>\n",
       "  </thead>\n",
       "  <tbody>\n",
       "    <tr>\n",
       "      <th>0</th>\n",
       "      <td>241032</td>\n",
       "      <td>2016-01-04</td>\n",
       "      <td>t</td>\n",
       "      <td>$85.00</td>\n",
       "      <td>Seattle</td>\n",
       "      <td>85.0</td>\n",
       "      <td>2016-01-04</td>\n",
       "      <td>2016</td>\n",
       "      <td>1</td>\n",
       "      <td>4</td>\n",
       "      <td>2016-01</td>\n",
       "      <td>Low</td>\n",
       "    </tr>\n",
       "    <tr>\n",
       "      <th>1</th>\n",
       "      <td>241032</td>\n",
       "      <td>2016-01-05</td>\n",
       "      <td>t</td>\n",
       "      <td>$85.00</td>\n",
       "      <td>Seattle</td>\n",
       "      <td>85.0</td>\n",
       "      <td>2016-01-05</td>\n",
       "      <td>2016</td>\n",
       "      <td>1</td>\n",
       "      <td>5</td>\n",
       "      <td>2016-01</td>\n",
       "      <td>Low</td>\n",
       "    </tr>\n",
       "    <tr>\n",
       "      <th>9</th>\n",
       "      <td>241032</td>\n",
       "      <td>2016-01-13</td>\n",
       "      <td>t</td>\n",
       "      <td>$85.00</td>\n",
       "      <td>Seattle</td>\n",
       "      <td>85.0</td>\n",
       "      <td>2016-01-13</td>\n",
       "      <td>2016</td>\n",
       "      <td>1</td>\n",
       "      <td>13</td>\n",
       "      <td>2016-01</td>\n",
       "      <td>Low</td>\n",
       "    </tr>\n",
       "    <tr>\n",
       "      <th>10</th>\n",
       "      <td>241032</td>\n",
       "      <td>2016-01-14</td>\n",
       "      <td>t</td>\n",
       "      <td>$85.00</td>\n",
       "      <td>Seattle</td>\n",
       "      <td>85.0</td>\n",
       "      <td>2016-01-14</td>\n",
       "      <td>2016</td>\n",
       "      <td>1</td>\n",
       "      <td>14</td>\n",
       "      <td>2016-01</td>\n",
       "      <td>Low</td>\n",
       "    </tr>\n",
       "    <tr>\n",
       "      <th>14</th>\n",
       "      <td>241032</td>\n",
       "      <td>2016-01-18</td>\n",
       "      <td>t</td>\n",
       "      <td>$85.00</td>\n",
       "      <td>Seattle</td>\n",
       "      <td>85.0</td>\n",
       "      <td>2016-01-18</td>\n",
       "      <td>2016</td>\n",
       "      <td>1</td>\n",
       "      <td>18</td>\n",
       "      <td>2016-01</td>\n",
       "      <td>Low</td>\n",
       "    </tr>\n",
       "  </tbody>\n",
       "</table>\n",
       "</div>"
      ],
      "text/plain": [
       "    listing_id        date available   price     city  price_value  \\\n",
       "0   241032      2016-01-04  t         $85.00  Seattle  85.0          \n",
       "1   241032      2016-01-05  t         $85.00  Seattle  85.0          \n",
       "9   241032      2016-01-13  t         $85.00  Seattle  85.0          \n",
       "10  241032      2016-01-14  t         $85.00  Seattle  85.0          \n",
       "14  241032      2016-01-18  t         $85.00  Seattle  85.0          \n",
       "\n",
       "   date_format  year  month  day month_year seasonality  \n",
       "0  2016-01-04   2016  1      4    2016-01    Low         \n",
       "1  2016-01-05   2016  1      5    2016-01    Low         \n",
       "9  2016-01-13   2016  1      13   2016-01    Low         \n",
       "10 2016-01-14   2016  1      14   2016-01    Low         \n",
       "14 2016-01-18   2016  1      18   2016-01    Low         "
      ]
     },
     "execution_count": 8,
     "metadata": {},
     "output_type": "execute_result"
    }
   ],
   "source": [
    "calendar_t.head()"
   ]
  },
  {
   "cell_type": "code",
   "execution_count": 9,
   "metadata": {},
   "outputs": [
    {
     "name": "stdout",
     "output_type": "stream",
     "text": [
      "                     avg_price\n",
      "city    month_year            \n",
      "Boston  2016-09     252.677308\n",
      "        2016-10     233.416248\n",
      "        2016-11     202.924416\n",
      "        2016-12     192.601915\n",
      "        2017-01     182.799671\n",
      "        2017-02     180.961028\n",
      "        2017-03     181.818742\n",
      "        2017-04     197.252890\n",
      "        2017-05     193.712295\n",
      "        2017-06     196.535302\n",
      "        2017-07     202.486309\n",
      "        2017-08     203.330142\n",
      "        2017-09     194.658331\n",
      "Seattle 2016-01     121.568409\n",
      "        2016-02     124.293927\n",
      "        2016-03     128.644488\n",
      "        2016-04     135.097005\n",
      "        2016-05     139.538183\n",
      "        2016-06     147.473137\n",
      "        2016-07     152.094150\n",
      "        2016-08     150.656594\n",
      "        2016-09     143.255949\n",
      "        2016-10     137.031939\n",
      "        2016-11     135.688738\n",
      "        2016-12     137.251835\n",
      "        2017-01     136.882590\n"
     ]
    }
   ],
   "source": [
    "# Average rental price by City & Months\n",
    "avg_rental = calendar_t.groupby(['city', 'month_year']).agg({'price_value':'mean'}).rename(columns={'price_value':'avg_price'})\n",
    "print(avg_rental)"
   ]
  },
  {
   "cell_type": "code",
   "execution_count": 10,
   "metadata": {},
   "outputs": [
    {
     "data": {
      "text/plain": [
       "[Text(0, 0, '2016-01'),\n",
       " Text(0, 0, '2016-02'),\n",
       " Text(0, 0, '2016-03'),\n",
       " Text(0, 0, '2016-04'),\n",
       " Text(0, 0, '2016-05'),\n",
       " Text(0, 0, '2016-06'),\n",
       " Text(0, 0, '2016-07'),\n",
       " Text(0, 0, '2016-08'),\n",
       " Text(0, 0, '2016-09'),\n",
       " Text(0, 0, '2016-10'),\n",
       " Text(0, 0, '2016-11'),\n",
       " Text(0, 0, '2016-12'),\n",
       " Text(0, 0, '2017-01'),\n",
       " Text(0, 0, '2017-02'),\n",
       " Text(0, 0, '2017-03'),\n",
       " Text(0, 0, '2017-04'),\n",
       " Text(0, 0, '2017-05'),\n",
       " Text(0, 0, '2017-06'),\n",
       " Text(0, 0, '2017-07'),\n",
       " Text(0, 0, '2017-08'),\n",
       " Text(0, 0, '2017-09')]"
      ]
     },
     "execution_count": 10,
     "metadata": {},
     "output_type": "execute_result"
    },
    {
     "data": {
      "image/png": "[encoded data removed]",
      "text/plain": [
       "<Figure size 1296x720 with 1 Axes>"
      ]
     },
     "metadata": {
      "needs_background": "light"
     },
     "output_type": "display_data"
    }
   ],
   "source": [
    "# Bar graph by City #\n",
    "fig, ax = plt.subplots(figsize=(18,10))\n",
    "fig = sns.barplot(x='month_year', y='price_value', hue='city', data=calendar_t, ax=ax)\n",
    "x_dates = calendar_t['date_format'].dt.strftime('%Y-%m').sort_values().unique()\n",
    "ax.set_xticklabels(labels=x_dates, rotation=45, ha='right')"
   ]
  },
  {
   "cell_type": "code",
   "execution_count": 11,
   "metadata": {},
   "outputs": [
    {
     "name": "stdout",
     "output_type": "stream",
     "text": [
      "          avg_price  id_cnt\n",
      "city                       \n",
      "Boston   198.438909  2906  \n",
      "Seattle  137.944859  3723  \n"
     ]
    }
   ],
   "source": [
    "# Average price & listing ID by City\n",
    "price_by_city = calendar_t.groupby(['city']).agg({'price_value':'mean', 'listing_id':'nunique'}).rename(columns={'price_value':'avg_price', 'listing_id':'id_cnt'})\n",
    "print (price_by_city)"
   ]
  },
  {
   "cell_type": "code",
   "execution_count": 12,
   "metadata": {},
   "outputs": [
    {
     "name": "stdout",
     "output_type": "stream",
     "text": [
      "                      avg_price    txns\n",
      "city    seasonality                    \n",
      "Boston  High         208.725477  296598\n",
      "        Low          189.797287  239876\n",
      "        Shoulder     189.260700  106563\n",
      "Seattle High         150.045546  227813\n",
      "        Low          130.266371  391037\n",
      "        Shoulder     138.723715  315692\n"
     ]
    }
   ],
   "source": [
    "# Average price for different seasonality by City\n",
    "seasonality_price = calendar_t.groupby(['city', 'seasonality']).agg({'price_value':'mean', 'listing_id':'count'}).rename(columns={'price_value':'avg_price', 'listing_id':'txns'})\n",
    "print(seasonality_price)"
   ]
  },
  {
   "cell_type": "markdown",
   "metadata": {},
   "source": [
    "***Findings:**\n",
    "\n",
    "1) Generally, average AirBNB rental fee in Boston is 44% (USD198 vs. USD138) higher than Seattle city.\n",
    "<br>\n",
    "2) It seems like the AirBNB pricing is seasonal fluctuations and interestingly, the pricing for both Low and Shoulder seasons are similar in Boston city (i.e. 10% more expensive for High season vs. Shoulder/Low seasons). Whereas in Seattle, it is 8% and 15% cheaper for Shoulder and Low season respectively as compare to High season."
   ]
  },
  {
   "cell_type": "markdown",
   "metadata": {},
   "source": [
    "### Question 2\n",
    "\n",
    "**What type of properties are more costly and is it relatively favorable ?**"
   ]
  },
  {
   "cell_type": "code",
   "execution_count": 13,
   "metadata": {},
   "outputs": [
    {
     "data": {
      "text/html": [
       "<div>\n",
       "<style scoped>\n",
       "    .dataframe tbody tr th:only-of-type {\n",
       "        vertical-align: middle;\n",
       "    }\n",
       "\n",
       "    .dataframe tbody tr th {\n",
       "        vertical-align: top;\n",
       "    }\n",
       "\n",
       "    .dataframe thead th {\n",
       "        text-align: right;\n",
       "    }\n",
       "</style>\n",
       "<table border=\"1\" class=\"dataframe\">\n",
       "  <thead>\n",
       "    <tr style=\"text-align: right;\">\n",
       "      <th></th>\n",
       "      <th>id</th>\n",
       "      <th>listing_url</th>\n",
       "      <th>scrape_id</th>\n",
       "      <th>last_scraped</th>\n",
       "      <th>name</th>\n",
       "      <th>summary</th>\n",
       "      <th>space</th>\n",
       "      <th>description</th>\n",
       "      <th>experiences_offered</th>\n",
       "      <th>neighborhood_overview</th>\n",
       "      <th>...</th>\n",
       "      <th>jurisdiction_names</th>\n",
       "      <th>instant_bookable</th>\n",
       "      <th>cancellation_policy</th>\n",
       "      <th>require_guest_profile_picture</th>\n",
       "      <th>require_guest_phone_verification</th>\n",
       "      <th>calculated_host_listings_count</th>\n",
       "      <th>reviews_per_month</th>\n",
       "      <th>access</th>\n",
       "      <th>interaction</th>\n",
       "      <th>house_rules</th>\n",
       "    </tr>\n",
       "  </thead>\n",
       "  <tbody>\n",
       "    <tr>\n",
       "      <th>0</th>\n",
       "      <td>241032</td>\n",
       "      <td>https://www.airbnb.com/rooms/241032</td>\n",
       "      <td>20160104002432</td>\n",
       "      <td>2016-01-04</td>\n",
       "      <td>Stylish Queen Anne Apartment</td>\n",
       "      <td>NaN</td>\n",
       "      <td>Make your self at home in this charming one-bedroom apartment, centrally-located on the west side of Queen Anne hill.   This elegantly-decorated, completely private apartment (bottom unit of a duplex) has an open floor plan, bamboo floors, a fully equipped kitchen, a TV,  DVD player, basic cable, and a very cozy bedroom with a queen-size bed. The unit sleeps up to four (two in the bedroom and two on the very comfortable fold out couch, linens included) and includes free WiFi and laundry. The apartment opens onto a private deck, complete with it's own BBQ, overlooking a garden and a forest of black bamboo.    The Apartment is perfectly-located just one block from the bus lines where you can catch a bus and be downtown Seattle in fifteen minutes or historic Ballard in ten or a quick five-minute walk will bring you to Whole Foods and Peet's Coffee or take a fifteen minute walk to the top of Queen Anne Hill where you will find a variety of eclectic shops, bars, and restaurants. There is no</td>\n",
       "      <td>Make your self at home in this charming one-bedroom apartment, centrally-located on the west side of Queen Anne hill.   This elegantly-decorated, completely private apartment (bottom unit of a duplex) has an open floor plan, bamboo floors, a fully equipped kitchen, a TV,  DVD player, basic cable, and a very cozy bedroom with a queen-size bed. The unit sleeps up to four (two in the bedroom and two on the very comfortable fold out couch, linens included) and includes free WiFi and laundry. The apartment opens onto a private deck, complete with it's own BBQ, overlooking a garden and a forest of black bamboo.    The Apartment is perfectly-located just one block from the bus lines where you can catch a bus and be downtown Seattle in fifteen minutes or historic Ballard in ten or a quick five-minute walk will bring you to Whole Foods and Peet's Coffee or take a fifteen minute walk to the top of Queen Anne Hill where you will find a variety of eclectic shops, bars, and restaurants. There is no</td>\n",
       "      <td>none</td>\n",
       "      <td>NaN</td>\n",
       "      <td>...</td>\n",
       "      <td>WASHINGTON</td>\n",
       "      <td>f</td>\n",
       "      <td>moderate</td>\n",
       "      <td>f</td>\n",
       "      <td>f</td>\n",
       "      <td>2</td>\n",
       "      <td>4.07</td>\n",
       "      <td>NaN</td>\n",
       "      <td>NaN</td>\n",
       "      <td>NaN</td>\n",
       "    </tr>\n",
       "    <tr>\n",
       "      <th>1</th>\n",
       "      <td>953595</td>\n",
       "      <td>https://www.airbnb.com/rooms/953595</td>\n",
       "      <td>20160104002432</td>\n",
       "      <td>2016-01-04</td>\n",
       "      <td>Bright &amp; Airy Queen Anne Apartment</td>\n",
       "      <td>Chemically sensitive? We've removed the irritants triggering allergy or asthma attacks, like carpeting, forced air &amp; used pillows, all culprits that harbor fungus, mold &amp; bacteria.  No smoking, no pets.  Designed for healthy living, so breathe easy.</td>\n",
       "      <td>Beautiful, hypoallergenic apartment in an extremely safe, quiet and pedestrian-friendly section of Queen Anne.  A leafy-green location that puts the best of Seattle at your doorstep. Free WiFi, free parking, ...even free pillows!  What's special about this place? Hypo-allergenic bedding, mattresses/covers and new pillows with each rental. (So feel free to take your new pillows with you!)  A beautiful restoration mixing period details &amp; modern sensibilities: Hardwood floors throughout, white subway tile, low/no VOCs &amp; non-toxic paints keep this home-away-from-home clean, smart and healthy. Radiant heat and oil radiators mean no blowing hot air or dust.  Great Amenities: Free WiFi &amp; internet TV (LED flatscreen). Fully-equipped kitchen with stainless-steel appliances, sink &amp; disposal. Large washer &amp; dryer.  Iron/ironing board. Hairdryer. Plenty of storage. Convenient parking, both on- and off-street. The Best Location: Enjoy Seattle's celebrated Macrina bakery, neighborhood cafes, boutiqu</td>\n",
       "      <td>Chemically sensitive? We've removed the irritants triggering allergy or asthma attacks, like carpeting, forced air &amp; used pillows, all culprits that harbor fungus, mold &amp; bacteria.  No smoking, no pets.  Designed for healthy living, so breathe easy. Beautiful, hypoallergenic apartment in an extremely safe, quiet and pedestrian-friendly section of Queen Anne.  A leafy-green location that puts the best of Seattle at your doorstep. Free WiFi, free parking, ...even free pillows!  What's special about this place? Hypo-allergenic bedding, mattresses/covers and new pillows with each rental. (So feel free to take your new pillows with you!)  A beautiful restoration mixing period details &amp; modern sensibilities: Hardwood floors throughout, white subway tile, low/no VOCs &amp; non-toxic paints keep this home-away-from-home clean, smart and healthy. Radiant heat and oil radiators mean no blowing hot air or dust.  Great Amenities: Free WiFi &amp; internet TV (LED flatscreen). Fully-equipped kitchen with st</td>\n",
       "      <td>none</td>\n",
       "      <td>Queen Anne is a wonderful, truly functional village.  You can walk everywhere... for coffee, for groceries, for a night out, for breathtaking views of the Puget Sound.</td>\n",
       "      <td>...</td>\n",
       "      <td>WASHINGTON</td>\n",
       "      <td>f</td>\n",
       "      <td>strict</td>\n",
       "      <td>t</td>\n",
       "      <td>t</td>\n",
       "      <td>6</td>\n",
       "      <td>1.48</td>\n",
       "      <td>NaN</td>\n",
       "      <td>NaN</td>\n",
       "      <td>NaN</td>\n",
       "    </tr>\n",
       "  </tbody>\n",
       "</table>\n",
       "<p>2 rows × 95 columns</p>\n",
       "</div>"
      ],
      "text/plain": [
       "       id                          listing_url       scrape_id last_scraped  \\\n",
       "0  241032  https://www.airbnb.com/rooms/241032  20160104002432  2016-01-04    \n",
       "1  953595  https://www.airbnb.com/rooms/953595  20160104002432  2016-01-04    \n",
       "\n",
       "                                 name  \\\n",
       "0  Stylish Queen Anne Apartment         \n",
       "1  Bright & Airy Queen Anne Apartment   \n",
       "\n",
       "                                                                                                                                                                                                                                                     summary  \\\n",
       "0  NaN                                                                                                                                                                                                                                                         \n",
       "1  Chemically sensitive? We've removed the irritants triggering allergy or asthma attacks, like carpeting, forced air & used pillows, all culprits that harbor fungus, mold & bacteria.  No smoking, no pets.  Designed for healthy living, so breathe easy.   \n",
       "\n",
       "                                                                                                                                                                                                                                                                                                                                                                                                                                                                                                                                                                                                                                                                                                                                                                                                                                                                                                                                                                                                                                      space  \\\n",
       "0  Make your self at home in this charming one-bedroom apartment, centrally-located on the west side of Queen Anne hill.   This elegantly-decorated, completely private apartment (bottom unit of a duplex) has an open floor plan, bamboo floors, a fully equipped kitchen, a TV,  DVD player, basic cable, and a very cozy bedroom with a queen-size bed. The unit sleeps up to four (two in the bedroom and two on the very comfortable fold out couch, linens included) and includes free WiFi and laundry. The apartment opens onto a private deck, complete with it's own BBQ, overlooking a garden and a forest of black bamboo.    The Apartment is perfectly-located just one block from the bus lines where you can catch a bus and be downtown Seattle in fifteen minutes or historic Ballard in ten or a quick five-minute walk will bring you to Whole Foods and Peet's Coffee or take a fifteen minute walk to the top of Queen Anne Hill where you will find a variety of eclectic shops, bars, and restaurants. There is no   \n",
       "1  Beautiful, hypoallergenic apartment in an extremely safe, quiet and pedestrian-friendly section of Queen Anne.  A leafy-green location that puts the best of Seattle at your doorstep. Free WiFi, free parking, ...even free pillows!  What's special about this place? Hypo-allergenic bedding, mattresses/covers and new pillows with each rental. (So feel free to take your new pillows with you!)  A beautiful restoration mixing period details & modern sensibilities: Hardwood floors throughout, white subway tile, low/no VOCs & non-toxic paints keep this home-away-from-home clean, smart and healthy. Radiant heat and oil radiators mean no blowing hot air or dust.  Great Amenities: Free WiFi & internet TV (LED flatscreen). Fully-equipped kitchen with stainless-steel appliances, sink & disposal. Large washer & dryer.  Iron/ironing board. Hairdryer. Plenty of storage. Convenient parking, both on- and off-street. The Best Location: Enjoy Seattle's celebrated Macrina bakery, neighborhood cafes, boutiqu   \n",
       "\n",
       "                                                                                                                                                                                                                                                                                                                                                                                                                                                                                                                                                                                                                                                                                                                                                                                                                                                                                                                                                                                                                                description  \\\n",
       "0  Make your self at home in this charming one-bedroom apartment, centrally-located on the west side of Queen Anne hill.   This elegantly-decorated, completely private apartment (bottom unit of a duplex) has an open floor plan, bamboo floors, a fully equipped kitchen, a TV,  DVD player, basic cable, and a very cozy bedroom with a queen-size bed. The unit sleeps up to four (two in the bedroom and two on the very comfortable fold out couch, linens included) and includes free WiFi and laundry. The apartment opens onto a private deck, complete with it's own BBQ, overlooking a garden and a forest of black bamboo.    The Apartment is perfectly-located just one block from the bus lines where you can catch a bus and be downtown Seattle in fifteen minutes or historic Ballard in ten or a quick five-minute walk will bring you to Whole Foods and Peet's Coffee or take a fifteen minute walk to the top of Queen Anne Hill where you will find a variety of eclectic shops, bars, and restaurants. There is no   \n",
       "1  Chemically sensitive? We've removed the irritants triggering allergy or asthma attacks, like carpeting, forced air & used pillows, all culprits that harbor fungus, mold & bacteria.  No smoking, no pets.  Designed for healthy living, so breathe easy. Beautiful, hypoallergenic apartment in an extremely safe, quiet and pedestrian-friendly section of Queen Anne.  A leafy-green location that puts the best of Seattle at your doorstep. Free WiFi, free parking, ...even free pillows!  What's special about this place? Hypo-allergenic bedding, mattresses/covers and new pillows with each rental. (So feel free to take your new pillows with you!)  A beautiful restoration mixing period details & modern sensibilities: Hardwood floors throughout, white subway tile, low/no VOCs & non-toxic paints keep this home-away-from-home clean, smart and healthy. Radiant heat and oil radiators mean no blowing hot air or dust.  Great Amenities: Free WiFi & internet TV (LED flatscreen). Fully-equipped kitchen with st   \n",
       "\n",
       "  experiences_offered  \\\n",
       "0  none                 \n",
       "1  none                 \n",
       "\n",
       "                                                                                                                                                     neighborhood_overview  \\\n",
       "0  NaN                                                                                                                                                                       \n",
       "1  Queen Anne is a wonderful, truly functional village.  You can walk everywhere... for coffee, for groceries, for a night out, for breathtaking views of the Puget Sound.   \n",
       "\n",
       "   ... jurisdiction_names instant_bookable cancellation_policy  \\\n",
       "0  ...  WASHINGTON         f                moderate             \n",
       "1  ...  WASHINGTON         f                strict               \n",
       "\n",
       "  require_guest_profile_picture require_guest_phone_verification  \\\n",
       "0  f                             f                                 \n",
       "1  t                             t                                 \n",
       "\n",
       "  calculated_host_listings_count  reviews_per_month access interaction  \\\n",
       "0  2                              4.07               NaN    NaN          \n",
       "1  6                              1.48               NaN    NaN          \n",
       "\n",
       "  house_rules  \n",
       "0  NaN         \n",
       "1  NaN         \n",
       "\n",
       "[2 rows x 95 columns]"
      ]
     },
     "metadata": {},
     "output_type": "display_data"
    }
   ],
   "source": [
    "display(listings.head(n=2))"
   ]
  },
  {
   "cell_type": "code",
   "execution_count": 14,
   "metadata": {},
   "outputs": [
    {
     "name": "stdout",
     "output_type": "stream",
     "text": [
      "Total number of records: 7403\n",
      "Total number of variables: 95\n"
     ]
    }
   ],
   "source": [
    "# Number of records and variables\n",
    "n_records = len(listings)\n",
    "n_variables = listings.shape[1]\n",
    "\n",
    "# Print the results\n",
    "print(\"Total number of records: {}\".format(n_records))\n",
    "print(\"Total number of variables: {}\".format(n_variables))"
   ]
  },
  {
   "cell_type": "code",
   "execution_count": 15,
   "metadata": {},
   "outputs": [
    {
     "data": {
      "text/plain": [
       "Index(['id', 'listing_url', 'scrape_id', 'last_scraped', 'name', 'summary',\n",
       "       'space', 'description', 'experiences_offered', 'neighborhood_overview',\n",
       "       'notes', 'transit', 'thumbnail_url', 'medium_url', 'picture_url',\n",
       "       'xl_picture_url', 'host_id', 'host_url', 'host_name', 'host_since',\n",
       "       'host_location', 'host_about', 'host_response_time',\n",
       "       'host_response_rate', 'host_acceptance_rate', 'host_is_superhost',\n",
       "       'host_thumbnail_url', 'host_picture_url', 'host_neighbourhood',\n",
       "       'host_listings_count', 'host_total_listings_count',\n",
       "       'host_verifications', 'host_has_profile_pic', 'host_identity_verified',\n",
       "       'street', 'neighbourhood', 'neighbourhood_cleansed',\n",
       "       'neighbourhood_group_cleansed', 'city', 'state', 'zipcode', 'market',\n",
       "       'smart_location', 'country_code', 'country', 'latitude', 'longitude',\n",
       "       'is_location_exact', 'property_type', 'room_type', 'accommodates',\n",
       "       'bathrooms', 'bedrooms', 'beds', 'bed_type', 'amenities', 'square_feet',\n",
       "       'price', 'weekly_price', 'monthly_price', 'security_deposit',\n",
       "       'cleaning_fee', 'guests_included', 'extra_people', 'minimum_nights',\n",
       "       'maximum_nights', 'calendar_updated', 'has_availability',\n",
       "       'availability_30', 'availability_60', 'availability_90',\n",
       "       'availability_365', 'calendar_last_scraped', 'number_of_reviews',\n",
       "       'first_review', 'last_review', 'review_scores_rating',\n",
       "       'review_scores_accuracy', 'review_scores_cleanliness',\n",
       "       'review_scores_checkin', 'review_scores_communication',\n",
       "       'review_scores_location', 'review_scores_value', 'requires_license',\n",
       "       'license', 'jurisdiction_names', 'instant_bookable',\n",
       "       'cancellation_policy', 'require_guest_profile_picture',\n",
       "       'require_guest_phone_verification', 'calculated_host_listings_count',\n",
       "       'reviews_per_month', 'access', 'interaction', 'house_rules'],\n",
       "      dtype='object')"
      ]
     },
     "execution_count": 15,
     "metadata": {},
     "output_type": "execute_result"
    }
   ],
   "source": [
    "listings.columns\n",
    "#listings.dtypes\n",
    "#list(listings.select_dtypes(include=[np.number]).columns.values)\n",
    "#list(listings.select_dtypes(include=[np.object]).columns.values)"
   ]
  },
  {
   "cell_type": "code",
   "execution_count": 16,
   "metadata": {},
   "outputs": [],
   "source": [
    "# Convert the \"price\" to numeric & derive the \"hostsince_year\"\n",
    "today = dt.datetime.today()\n",
    "listings = listings.assign(hostsince_year=((today-pd.to_datetime(listings['host_since'], format=\"%Y-%m-%d\")).dt.days)/365)\n",
    "listings = listings.assign(hostsince_year_int=listings['hostsince_year'].fillna(0).astype(np.int64))\n",
    "listings = listings.assign(price_value=listings[['price']].replace('[\\$,]','',regex=True).astype(float))"
   ]
  },
  {
   "cell_type": "code",
   "execution_count": 17,
   "metadata": {},
   "outputs": [
    {
     "data": {
      "text/html": [
       "<div>\n",
       "<style scoped>\n",
       "    .dataframe tbody tr th:only-of-type {\n",
       "        vertical-align: middle;\n",
       "    }\n",
       "\n",
       "    .dataframe tbody tr th {\n",
       "        vertical-align: top;\n",
       "    }\n",
       "\n",
       "    .dataframe thead th {\n",
       "        text-align: right;\n",
       "    }\n",
       "</style>\n",
       "<table border=\"1\" class=\"dataframe\">\n",
       "  <thead>\n",
       "    <tr style=\"text-align: right;\">\n",
       "      <th></th>\n",
       "      <th>id</th>\n",
       "      <th>host_since</th>\n",
       "      <th>hostsince_year</th>\n",
       "      <th>hostsince_year_int</th>\n",
       "    </tr>\n",
       "  </thead>\n",
       "  <tbody>\n",
       "    <tr>\n",
       "      <th>1297</th>\n",
       "      <td>8354452</td>\n",
       "      <td>NaN</td>\n",
       "      <td>NaN</td>\n",
       "      <td>0</td>\n",
       "    </tr>\n",
       "    <tr>\n",
       "      <th>1419</th>\n",
       "      <td>10235014</td>\n",
       "      <td>NaN</td>\n",
       "      <td>NaN</td>\n",
       "      <td>0</td>\n",
       "    </tr>\n",
       "  </tbody>\n",
       "</table>\n",
       "</div>"
      ],
      "text/plain": [
       "            id host_since  hostsince_year  hostsince_year_int\n",
       "1297  8354452   NaN       NaN              0                 \n",
       "1419  10235014  NaN       NaN              0                 "
      ]
     },
     "execution_count": 17,
     "metadata": {},
     "output_type": "execute_result"
    }
   ],
   "source": [
    "## 'host_since' is missing value ##\n",
    "listings.loc[listings['hostsince_year_int'] == 0, ['id', 'host_since', 'hostsince_year', 'hostsince_year_int']]"
   ]
  },
  {
   "cell_type": "code",
   "execution_count": 18,
   "metadata": {},
   "outputs": [],
   "source": [
    "# Only study records with property_type is not null\n",
    "listings_v =listings.loc[listings['property_type'].notnull()]"
   ]
  },
  {
   "cell_type": "code",
   "execution_count": 19,
   "metadata": {},
   "outputs": [
    {
     "name": "stdout",
     "output_type": "stream",
     "text": [
      "Total number of records: 7399\n",
      "Total number of variables: 98\n"
     ]
    }
   ],
   "source": [
    "# Number of records and variables\n",
    "n_records_v = len(listings_v)\n",
    "n_variables_v = listings_v.shape[1]\n",
    "\n",
    "# Print the results\n",
    "print(\"Total number of records: {}\".format(n_records_v))\n",
    "print(\"Total number of variables: {}\".format(n_variables_v))"
   ]
  },
  {
   "cell_type": "code",
   "execution_count": 20,
   "metadata": {},
   "outputs": [
    {
     "name": "stdout",
     "output_type": "stream",
     "text": [
      "                  avg_price  capacity  txns\n",
      "property_type                              \n",
      "Guesthouse       289.000000  2.0       1   \n",
      "Boat             274.250000  6.0       20  \n",
      "Villa            189.500000  2.0       6   \n",
      "Condominium      179.186335  6.0       322 \n",
      "Loft             160.240506  8.0       79  \n",
      "Apartment        158.626389  16.0      4320\n",
      "Other            153.641026  2.0       39  \n",
      "Townhouse        135.604651  8.0       172 \n",
      "House            132.167320  15.0      2295\n",
      "Entire Floor     122.000000  3.0       4   \n",
      "Bed & Breakfast  121.153846  4.0       78  \n",
      "Camper/RV        116.142857  4.0       14  \n",
      "Bungalow         115.615385  4.0       13  \n",
      "Cabin            104.666667  4.0       21  \n",
      "Treehouse        101.000000  1.0       3   \n",
      "Yurt             100.000000  2.0       1   \n",
      "Chalet           98.500000   3.0       2   \n",
      "Tent             54.000000   2.0       5   \n",
      "Dorm             51.000000   8.0       4   \n"
     ]
    }
   ],
   "source": [
    "listings_price = listings_v.groupby(['property_type']).agg({'price_value':'mean', 'beds':'max', 'id':'count'}).rename(columns={'price_value':'avg_price', 'beds':'capacity', 'id':'txns'}).sort_values('avg_price', ascending=False)\n",
    "print(listings_price)"
   ]
  },
  {
   "cell_type": "code",
   "execution_count": 21,
   "metadata": {},
   "outputs": [
    {
     "data": {
      "text/plain": [
       "[Text(0, 0, 'Apartment'),\n",
       " Text(0, 0, 'House'),\n",
       " Text(0, 0, 'Cabin'),\n",
       " Text(0, 0, 'Condominium'),\n",
       " Text(0, 0, 'Camper/RV'),\n",
       " Text(0, 0, 'Bungalow'),\n",
       " Text(0, 0, 'Townhouse'),\n",
       " Text(0, 0, 'Loft'),\n",
       " Text(0, 0, 'Boat'),\n",
       " Text(0, 0, 'Bed & Breakfast'),\n",
       " Text(0, 0, 'Other'),\n",
       " Text(0, 0, 'Dorm'),\n",
       " Text(0, 0, 'Treehouse'),\n",
       " Text(0, 0, 'Yurt'),\n",
       " Text(0, 0, 'Chalet'),\n",
       " Text(0, 0, 'Tent'),\n",
       " Text(0, 0, 'Villa'),\n",
       " Text(0, 0, 'Entire Floor'),\n",
       " Text(0, 0, 'Guesthouse')]"
      ]
     },
     "execution_count": 21,
     "metadata": {},
     "output_type": "execute_result"
    },
    {
     "data": {
      "image/png": "[encoded data removed]",
      "text/plain": [
       "<Figure size 1152x576 with 1 Axes>"
      ]
     },
     "metadata": {
      "needs_background": "light"
     },
     "output_type": "display_data"
    }
   ],
   "source": [
    "# Bar graph by Property Type #\n",
    "fig, ax = plt.subplots(figsize=(16,8))\n",
    "fig = sns.barplot(x='property_type', y='price_value', data=listings_v, ax=ax)\n",
    "x_labels = listings_v['property_type'].unique()\n",
    "ax.set_xticklabels(labels=x_labels, rotation=45, ha='right')"
   ]
  },
  {
   "cell_type": "markdown",
   "metadata": {},
   "source": [
    "***Findings:**\n",
    "\n",
    "1) Out of 19 different property types in both cities, surprisingly \"Guesthouse\" appears as most costly (i.e. USD289) property type as compare to the rest and follow by \"Boat\" and \"Villa\" with price of USD274 and USD190 respectively.\n",
    "<br>\n",
    "2) But costly property types doesn't seem to be favorable by customers. In fact, substantial beds capacity by property type      is the key factor to a guest favouritism during vacation i.e. \"Apartment\" with max capacity of 16 and \"House\" with 15."
   ]
  },
  {
   "cell_type": "markdown",
   "metadata": {},
   "source": [
    "### Question 3\n",
    "\n",
    "**Are we able to classify positive or negative comments based on customers reviews ? And, what is the distribution ?**"
   ]
  },
  {
   "cell_type": "code",
   "execution_count": 22,
   "metadata": {
    "scrolled": true
   },
   "outputs": [
    {
     "data": {
      "text/html": [
       "<div>\n",
       "<style scoped>\n",
       "    .dataframe tbody tr th:only-of-type {\n",
       "        vertical-align: middle;\n",
       "    }\n",
       "\n",
       "    .dataframe tbody tr th {\n",
       "        vertical-align: top;\n",
       "    }\n",
       "\n",
       "    .dataframe thead th {\n",
       "        text-align: right;\n",
       "    }\n",
       "</style>\n",
       "<table border=\"1\" class=\"dataframe\">\n",
       "  <thead>\n",
       "    <tr style=\"text-align: right;\">\n",
       "      <th></th>\n",
       "      <th>listing_id</th>\n",
       "      <th>id</th>\n",
       "      <th>date</th>\n",
       "      <th>reviewer_id</th>\n",
       "      <th>reviewer_name</th>\n",
       "      <th>comments</th>\n",
       "      <th>city</th>\n",
       "    </tr>\n",
       "  </thead>\n",
       "  <tbody>\n",
       "    <tr>\n",
       "      <th>0</th>\n",
       "      <td>7202016</td>\n",
       "      <td>38917982</td>\n",
       "      <td>2015-07-19</td>\n",
       "      <td>28943674</td>\n",
       "      <td>Bianca</td>\n",
       "      <td>Cute and cozy place. Perfect location to everything!</td>\n",
       "      <td>Seattle</td>\n",
       "    </tr>\n",
       "    <tr>\n",
       "      <th>1</th>\n",
       "      <td>7202016</td>\n",
       "      <td>39087409</td>\n",
       "      <td>2015-07-20</td>\n",
       "      <td>32440555</td>\n",
       "      <td>Frank</td>\n",
       "      <td>Kelly has a great room in a very central location. \\r\\nBeautiful building , architecture and a style that we really like. \\r\\nWe felt guite at home here and wish we had spent more time.\\r\\nWent for a walk and found Seattle Center with a major food festival in progress. What a treat.\\r\\nVisited the Space Needle and the Chihuly Glass exhibit. Then Pikes Place Market. WOW.  Thanks for a great stay.</td>\n",
       "      <td>Seattle</td>\n",
       "    </tr>\n",
       "    <tr>\n",
       "      <th>2</th>\n",
       "      <td>7202016</td>\n",
       "      <td>39820030</td>\n",
       "      <td>2015-07-26</td>\n",
       "      <td>37722850</td>\n",
       "      <td>Ian</td>\n",
       "      <td>Very spacious apartment, and in a great neighborhood.  This is the kind of apartment I wish I had!\\r\\n\\r\\nDidn't really get to meet Kelly until I was on my out, but she was always readily available by phone. \\r\\n\\r\\nI believe the only \"issue\" (if you want to call it that) was finding a place to park, but I sincerely doubt its easy to park anywhere in a residential area after 5 pm on a Friday</td>\n",
       "      <td>Seattle</td>\n",
       "    </tr>\n",
       "    <tr>\n",
       "      <th>3</th>\n",
       "      <td>7202016</td>\n",
       "      <td>40813543</td>\n",
       "      <td>2015-08-02</td>\n",
       "      <td>33671805</td>\n",
       "      <td>George</td>\n",
       "      <td>Close to Seattle Center and all it has to offer - ballet, theater, museum, Space Needle, restaurants of all ilk just blocks away, and the Metropolitan (probably the coolest grocer you'll ever find). Easy to find and Kelly was warm, welcoming, and really interesting to talk to.</td>\n",
       "      <td>Seattle</td>\n",
       "    </tr>\n",
       "    <tr>\n",
       "      <th>4</th>\n",
       "      <td>7202016</td>\n",
       "      <td>41986501</td>\n",
       "      <td>2015-08-10</td>\n",
       "      <td>34959538</td>\n",
       "      <td>Ming</td>\n",
       "      <td>Kelly was a great host and very accommodating in a great neighborhood. She has some great coffee and while I wasn't around much during my stay the time I spent interacting with her was very pleasant. \\r\\n\\r\\nThe apartment is in a great location and very close to the Seattle Center. The neighborhood itself has a lot of good food as well!</td>\n",
       "      <td>Seattle</td>\n",
       "    </tr>\n",
       "  </tbody>\n",
       "</table>\n",
       "</div>"
      ],
      "text/plain": [
       "   listing_id        id        date  reviewer_id reviewer_name  \\\n",
       "0  7202016     38917982  2015-07-19  28943674     Bianca         \n",
       "1  7202016     39087409  2015-07-20  32440555     Frank          \n",
       "2  7202016     39820030  2015-07-26  37722850     Ian            \n",
       "3  7202016     40813543  2015-08-02  33671805     George         \n",
       "4  7202016     41986501  2015-08-10  34959538     Ming           \n",
       "\n",
       "                                                                                                                                                                                                                                                                                                                                                                                                         comments  \\\n",
       "0  Cute and cozy place. Perfect location to everything!                                                                                                                                                                                                                                                                                                                                                             \n",
       "1  Kelly has a great room in a very central location. \\r\\nBeautiful building , architecture and a style that we really like. \\r\\nWe felt guite at home here and wish we had spent more time.\\r\\nWent for a walk and found Seattle Center with a major food festival in progress. What a treat.\\r\\nVisited the Space Needle and the Chihuly Glass exhibit. Then Pikes Place Market. WOW.  Thanks for a great stay.   \n",
       "2  Very spacious apartment, and in a great neighborhood.  This is the kind of apartment I wish I had!\\r\\n\\r\\nDidn't really get to meet Kelly until I was on my out, but she was always readily available by phone. \\r\\n\\r\\nI believe the only \"issue\" (if you want to call it that) was finding a place to park, but I sincerely doubt its easy to park anywhere in a residential area after 5 pm on a Friday       \n",
       "3  Close to Seattle Center and all it has to offer - ballet, theater, museum, Space Needle, restaurants of all ilk just blocks away, and the Metropolitan (probably the coolest grocer you'll ever find). Easy to find and Kelly was warm, welcoming, and really interesting to talk to.                                                                                                                            \n",
       "4  Kelly was a great host and very accommodating in a great neighborhood. She has some great coffee and while I wasn't around much during my stay the time I spent interacting with her was very pleasant. \\r\\n\\r\\nThe apartment is in a great location and very close to the Seattle Center. The neighborhood itself has a lot of good food as well!                                                               \n",
       "\n",
       "      city  \n",
       "0  Seattle  \n",
       "1  Seattle  \n",
       "2  Seattle  \n",
       "3  Seattle  \n",
       "4  Seattle  "
      ]
     },
     "execution_count": 22,
     "metadata": {},
     "output_type": "execute_result"
    }
   ],
   "source": [
    "reviews.head()"
   ]
  },
  {
   "cell_type": "code",
   "execution_count": 23,
   "metadata": {},
   "outputs": [],
   "source": [
    "# Reset the index\n",
    "reviews.reset_index(drop=True, inplace=True)"
   ]
  },
  {
   "cell_type": "code",
   "execution_count": 24,
   "metadata": {},
   "outputs": [
    {
     "name": "stdout",
     "output_type": "stream",
     "text": [
      "Total number of records: 153124\n",
      "Total number of variables: 7\n",
      "Total number of records for Seattle: 84849\n",
      "Total number of records for Boston: 68275\n"
     ]
    }
   ],
   "source": [
    "# Number of records and variables\n",
    "n_records = len(reviews)\n",
    "n_variables = reviews.shape[1]\n",
    "n_srecords = len(s_reviews)\n",
    "n_brecords = len(b_reviews)\n",
    "\n",
    "# Print the results\n",
    "print(\"Total number of records: {}\".format(n_records))\n",
    "print(\"Total number of variables: {}\".format(n_variables))\n",
    "print(\"Total number of records for Seattle: {}\".format(n_srecords))\n",
    "print(\"Total number of records for Boston: {}\".format(n_brecords))"
   ]
  },
  {
   "cell_type": "code",
   "execution_count": 25,
   "metadata": {},
   "outputs": [
    {
     "data": {
      "text/html": [
       "<div>\n",
       "<style scoped>\n",
       "    .dataframe tbody tr th:only-of-type {\n",
       "        vertical-align: middle;\n",
       "    }\n",
       "\n",
       "    .dataframe tbody tr th {\n",
       "        vertical-align: top;\n",
       "    }\n",
       "\n",
       "    .dataframe thead th {\n",
       "        text-align: right;\n",
       "    }\n",
       "</style>\n",
       "<table border=\"1\" class=\"dataframe\">\n",
       "  <thead>\n",
       "    <tr style=\"text-align: right;\">\n",
       "      <th></th>\n",
       "      <th>comments</th>\n",
       "    </tr>\n",
       "  </thead>\n",
       "  <tbody>\n",
       "    <tr>\n",
       "      <th>0</th>\n",
       "      <td>Cute and cozy place. Perfect location to everything!</td>\n",
       "    </tr>\n",
       "    <tr>\n",
       "      <th>1</th>\n",
       "      <td>Kelly has a great room in a very central location. \\r\\nBeautiful building , architecture and a style that we really like. \\r\\nWe felt guite at home here and wish we had spent more time.\\r\\nWent for a walk and found Seattle Center with a major food festival in progress. What a treat.\\r\\nVisited the Space Needle and the Chihuly Glass exhibit. Then Pikes Place Market. WOW.  Thanks for a great stay.</td>\n",
       "    </tr>\n",
       "    <tr>\n",
       "      <th>2</th>\n",
       "      <td>Very spacious apartment, and in a great neighborhood.  This is the kind of apartment I wish I had!\\r\\n\\r\\nDidn't really get to meet Kelly until I was on my out, but she was always readily available by phone. \\r\\n\\r\\nI believe the only \"issue\" (if you want to call it that) was finding a place to park, but I sincerely doubt its easy to park anywhere in a residential area after 5 pm on a Friday</td>\n",
       "    </tr>\n",
       "    <tr>\n",
       "      <th>3</th>\n",
       "      <td>Close to Seattle Center and all it has to offer - ballet, theater, museum, Space Needle, restaurants of all ilk just blocks away, and the Metropolitan (probably the coolest grocer you'll ever find). Easy to find and Kelly was warm, welcoming, and really interesting to talk to.</td>\n",
       "    </tr>\n",
       "    <tr>\n",
       "      <th>4</th>\n",
       "      <td>Kelly was a great host and very accommodating in a great neighborhood. She has some great coffee and while I wasn't around much during my stay the time I spent interacting with her was very pleasant. \\r\\n\\r\\nThe apartment is in a great location and very close to the Seattle Center. The neighborhood itself has a lot of good food as well!</td>\n",
       "    </tr>\n",
       "  </tbody>\n",
       "</table>\n",
       "</div>"
      ],
      "text/plain": [
       "                                                                                                                                                                                                                                                                                                                                                                                                         comments\n",
       "0  Cute and cozy place. Perfect location to everything!                                                                                                                                                                                                                                                                                                                                                          \n",
       "1  Kelly has a great room in a very central location. \\r\\nBeautiful building , architecture and a style that we really like. \\r\\nWe felt guite at home here and wish we had spent more time.\\r\\nWent for a walk and found Seattle Center with a major food festival in progress. What a treat.\\r\\nVisited the Space Needle and the Chihuly Glass exhibit. Then Pikes Place Market. WOW.  Thanks for a great stay.\n",
       "2  Very spacious apartment, and in a great neighborhood.  This is the kind of apartment I wish I had!\\r\\n\\r\\nDidn't really get to meet Kelly until I was on my out, but she was always readily available by phone. \\r\\n\\r\\nI believe the only \"issue\" (if you want to call it that) was finding a place to park, but I sincerely doubt its easy to park anywhere in a residential area after 5 pm on a Friday    \n",
       "3  Close to Seattle Center and all it has to offer - ballet, theater, museum, Space Needle, restaurants of all ilk just blocks away, and the Metropolitan (probably the coolest grocer you'll ever find). Easy to find and Kelly was warm, welcoming, and really interesting to talk to.                                                                                                                         \n",
       "4  Kelly was a great host and very accommodating in a great neighborhood. She has some great coffee and while I wasn't around much during my stay the time I spent interacting with her was very pleasant. \\r\\n\\r\\nThe apartment is in a great location and very close to the Seattle Center. The neighborhood itself has a lot of good food as well!                                                            "
      ]
     },
     "execution_count": 25,
     "metadata": {},
     "output_type": "execute_result"
    }
   ],
   "source": [
    "# Get variable \"comments\" only, split by City due to memory error in later session\n",
    "comments = reviews[['comments']]\n",
    "s_comments = s_reviews[['comments']]\n",
    "b_comments = b_reviews[['comments']]\n",
    "comments.head()"
   ]
  },
  {
   "cell_type": "code",
   "execution_count": 26,
   "metadata": {},
   "outputs": [],
   "source": [
    "# library to clean data \n",
    "import re  \n",
    "\n",
    "# Natural Language Tool Kit \n",
    "import nltk  \n",
    "  \n",
    "#nltk.download('stopwords') \n",
    "  \n",
    "# to remove stopword \n",
    "from nltk.corpus import stopwords \n",
    "  \n",
    "# for Stemming propose  \n",
    "from nltk.stem.porter import PorterStemmer"
   ]
  },
  {
   "cell_type": "code",
   "execution_count": 27,
   "metadata": {},
   "outputs": [],
   "source": [
    "## Seattle ##\n",
    "\n",
    "# Initialize empty array \n",
    "# to append clean text  \n",
    "s_corpus = []  \n",
    "\n",
    "for i in range(0, 84849):  \n",
    "      \n",
    "    # column : \"Review\", row ith \n",
    "    review = re.sub('[^a-zA-Z]', ' ', str(s_comments['comments'][i]))\n",
    "      \n",
    "    # convert all cases to lower cases \n",
    "    review = review.lower()  \n",
    "      \n",
    "    # split to array(default delimiter is \" \") \n",
    "    review = review.split()  \n",
    "      \n",
    "    # creating PorterStemmer object to \n",
    "    # take main stem of each word \n",
    "    ps = PorterStemmer()  \n",
    "      \n",
    "    # loop for stemming each word \n",
    "    # in string array at ith row     \n",
    "    review = [ps.stem(word) for word in review \n",
    "                if not word in set(stopwords.words('english'))]  \n",
    "                  \n",
    "    # rejoin all string array elements \n",
    "    # to create back into a string \n",
    "    review = ' '.join(review)   \n",
    "      \n",
    "    # append each string to create \n",
    "    # array of clean text  \n",
    "    s_corpus.append(review) "
   ]
  },
  {
   "cell_type": "code",
   "execution_count": 28,
   "metadata": {},
   "outputs": [],
   "source": [
    "## Boston ##\n",
    "\n",
    "# Initialize empty array \n",
    "# to append clean text  \n",
    "b_corpus = []  \n",
    "\n",
    "for i in range(0, 68275):  \n",
    "      \n",
    "    # column : \"Review\", row ith \n",
    "    review = re.sub('[^a-zA-Z]', ' ', str(b_comments['comments'][i]))\n",
    "      \n",
    "    # convert all cases to lower cases \n",
    "    review = review.lower()  \n",
    "      \n",
    "    # split to array(default delimiter is \" \") \n",
    "    review = review.split()  \n",
    "      \n",
    "    # creating PorterStemmer object to \n",
    "    # take main stem of each word \n",
    "    ps = PorterStemmer()  \n",
    "      \n",
    "    # loop for stemming each word \n",
    "    # in string array at ith row     \n",
    "    review = [ps.stem(word) for word in review \n",
    "                if not word in set(stopwords.words('english'))]  \n",
    "                  \n",
    "    # rejoin all string array elements \n",
    "    # to create back into a string \n",
    "    review = ' '.join(review)   \n",
    "      \n",
    "    # append each string to create \n",
    "    # array of clean text  \n",
    "    b_corpus.append(review) "
   ]
  },
  {
   "cell_type": "code",
   "execution_count": 29,
   "metadata": {},
   "outputs": [],
   "source": [
    "count_vector = CountVectorizer()\n",
    "\n",
    "def get_top_n_words(corpus, n=None):\n",
    "    \"\"\"\n",
    "    List the top n words in a vocabulary according to occurrence in a text corpus.\n",
    "    \"\"\"    \n",
    "    vec = count_vector.fit(corpus)\n",
    "    bag_of_words = vec.transform(corpus)\n",
    "    sum_words = bag_of_words.sum(axis=0) \n",
    "    words_freq = [(word, sum_words[0, idx]) for word, idx in vec.vocabulary_.items()]\n",
    "    words_freq = sorted(words_freq, key = lambda x: x[1], reverse=True)\n",
    "    return words_freq[:n]"
   ]
  },
  {
   "cell_type": "code",
   "execution_count": 30,
   "metadata": {},
   "outputs": [],
   "source": [
    "## Top 50 common words in both cities ##\n",
    "s_common_words = get_top_n_words(s_corpus, 50)\n",
    "b_common_words = get_top_n_words(b_corpus, 50)"
   ]
  },
  {
   "cell_type": "code",
   "execution_count": 31,
   "metadata": {},
   "outputs": [
    {
     "name": "stdout",
     "output_type": "stream",
     "text": [
      "stay 70809\n",
      "great 61002\n",
      "place 50362\n",
      "seattl 40345\n",
      "locat 35919\n",
      "us 31884\n",
      "clean 30095\n",
      "host 29638\n",
      "comfort 26912\n",
      "apart 26392\n",
      "would 26275\n",
      "nice 24656\n",
      "hous 23426\n",
      "walk 22972\n",
      "room 22306\n",
      "recommend 22151\n",
      "home 21218\n",
      "love 20586\n",
      "need 20457\n",
      "time 20125\n",
      "everyth 19826\n",
      "neighborhood 19236\n",
      "easi 18163\n",
      "well 16579\n",
      "perfect 16351\n",
      "realli 16319\n",
      "downtown 15918\n",
      "definit 15455\n",
      "help 14617\n",
      "get 14442\n",
      "space 14378\n",
      "also 14366\n",
      "bed 14095\n",
      "welcom 14062\n",
      "thank 13089\n",
      "restaur 13033\n",
      "even 12866\n",
      "wonder 12860\n",
      "enjoy 12835\n",
      "area 12742\n",
      "made 12588\n",
      "park 12550\n",
      "experi 12397\n",
      "close 12263\n",
      "quiet 12234\n",
      "good 11724\n",
      "like 11634\n",
      "beauti 10884\n",
      "arriv 10802\n",
      "day 10713\n"
     ]
    }
   ],
   "source": [
    "## Print top 50 common words in Seattle ##\n",
    "for word, freq in s_common_words:\n",
    "    print(word, freq)"
   ]
  },
  {
   "cell_type": "code",
   "execution_count": 32,
   "metadata": {},
   "outputs": [
    {
     "name": "stdout",
     "output_type": "stream",
     "text": [
      "stay 47908\n",
      "great 40420\n",
      "place 33382\n",
      "boston 32783\n",
      "apart 28903\n",
      "locat 28761\n",
      "clean 24185\n",
      "host 22800\n",
      "room 21777\n",
      "us 21595\n",
      "nice 19966\n",
      "would 18926\n",
      "walk 17303\n",
      "comfort 16977\n",
      "recommend 16061\n",
      "hous 14911\n",
      "time 14085\n",
      "everyth 13888\n",
      "need 13700\n",
      "easi 13117\n",
      "help 12654\n",
      "realli 12612\n",
      "well 11751\n",
      "home 11718\n",
      "good 11665\n",
      "love 11631\n",
      "get 11215\n",
      "perfect 10856\n",
      "neighborhood 10597\n",
      "close 10320\n",
      "also 10291\n",
      "definit 10079\n",
      "bed 9407\n",
      "arriv 9345\n",
      "welcom 9273\n",
      "experi 8951\n",
      "made 8875\n",
      "thank 8796\n",
      "area 8698\n",
      "even 8516\n",
      "restaur 8166\n",
      "day 8116\n",
      "check 7900\n",
      "night 7894\n",
      "like 7890\n",
      "conveni 7854\n",
      "minut 7737\n",
      "enjoy 7551\n",
      "one 7492\n",
      "back 7099\n"
     ]
    }
   ],
   "source": [
    "## Print top 50 common words in Boston ##\n",
    "for word, freq in b_common_words:\n",
    "    print(word, freq)"
   ]
  },
  {
   "cell_type": "code",
   "execution_count": 33,
   "metadata": {},
   "outputs": [],
   "source": [
    "def overall_reviews(x_corpus, x_reviews):\n",
    "    \n",
    "    count_vector.fit(x_corpus)\n",
    "    x_doc_array = count_vector.transform(x_corpus).toarray()\n",
    "    # Frequency Matrix for each words from \"comments\"\n",
    "    x_frequency_matrix = pd.DataFrame(x_doc_array, \n",
    "                                    columns = count_vector.get_feature_names())\n",
    "    ## Selected most relevant words for \"GOOD\" comments from Top 50 common words ##\n",
    "    x_good_comments = x_frequency_matrix[['great', 'nice', 'clean', 'love', 'perfect', 'comfort', 'good', 'enjoy', 'like', 'recommend', 'thank']]\n",
    "    # Derive the variable \"positive comments\"\n",
    "    x_good_comments['positive_comments'] = x_good_comments.apply(lambda x: sum(x), axis=1)\n",
    "    # Merge the \"Positive Comments Flag\" to original dataframe\n",
    "    overall_x_reviews = pd.merge(x_reviews, x_good_comments['positive_comments'], left_index=True, right_index=True, how='left')\n",
    "    overall_x_reviews['positive_comments_flag'] = ['Y' if x > 0 else 'N' for x in overall_x_reviews['positive_comments']]\n",
    "\n",
    "    return overall_x_reviews"
   ]
  },
  {
   "cell_type": "code",
   "execution_count": 34,
   "metadata": {},
   "outputs": [
    {
     "name": "stderr",
     "output_type": "stream",
     "text": [
      "C:\\Users\\eyanney\\Anaconda3\\lib\\site-packages\\ipykernel_launcher.py:11: SettingWithCopyWarning: \n",
      "A value is trying to be set on a copy of a slice from a DataFrame.\n",
      "Try using .loc[row_indexer,col_indexer] = value instead\n",
      "\n",
      "See the caveats in the documentation: http://pandas.pydata.org/pandas-docs/stable/indexing.html#indexing-view-versus-copy\n",
      "  # This is added back by InteractiveShellApp.init_path()\n"
     ]
    }
   ],
   "source": [
    "# Apply the function by City and concatenate the overall reviews\n",
    "overall_s_reviews = overall_reviews(s_corpus, s_reviews)\n",
    "overall_b_reviews = overall_reviews(b_corpus, b_reviews)\n",
    "overall_reviews = pd.concat([overall_s_reviews.assign(city='Seattle'), overall_b_reviews.assign(city='Boston')], sort=False)"
   ]
  },
  {
   "cell_type": "code",
   "execution_count": 35,
   "metadata": {},
   "outputs": [
    {
     "data": {
      "text/html": [
       "<div>\n",
       "<style scoped>\n",
       "    .dataframe tbody tr th:only-of-type {\n",
       "        vertical-align: middle;\n",
       "    }\n",
       "\n",
       "    .dataframe tbody tr th {\n",
       "        vertical-align: top;\n",
       "    }\n",
       "\n",
       "    .dataframe thead th {\n",
       "        text-align: right;\n",
       "    }\n",
       "</style>\n",
       "<table border=\"1\" class=\"dataframe\">\n",
       "  <thead>\n",
       "    <tr style=\"text-align: right;\">\n",
       "      <th></th>\n",
       "      <th>listing_id</th>\n",
       "      <th>id</th>\n",
       "      <th>date</th>\n",
       "      <th>reviewer_id</th>\n",
       "      <th>reviewer_name</th>\n",
       "      <th>comments</th>\n",
       "      <th>positive_comments</th>\n",
       "      <th>positive_comments_flag</th>\n",
       "      <th>city</th>\n",
       "    </tr>\n",
       "  </thead>\n",
       "  <tbody>\n",
       "    <tr>\n",
       "      <th>0</th>\n",
       "      <td>7202016</td>\n",
       "      <td>38917982</td>\n",
       "      <td>2015-07-19</td>\n",
       "      <td>28943674</td>\n",
       "      <td>Bianca</td>\n",
       "      <td>Cute and cozy place. Perfect location to everything!</td>\n",
       "      <td>1</td>\n",
       "      <td>Y</td>\n",
       "      <td>Seattle</td>\n",
       "    </tr>\n",
       "    <tr>\n",
       "      <th>1</th>\n",
       "      <td>7202016</td>\n",
       "      <td>39087409</td>\n",
       "      <td>2015-07-20</td>\n",
       "      <td>32440555</td>\n",
       "      <td>Frank</td>\n",
       "      <td>Kelly has a great room in a very central location. \\r\\nBeautiful building , architecture and a style that we really like. \\r\\nWe felt guite at home here and wish we had spent more time.\\r\\nWent for a walk and found Seattle Center with a major food festival in progress. What a treat.\\r\\nVisited the Space Needle and the Chihuly Glass exhibit. Then Pikes Place Market. WOW.  Thanks for a great stay.</td>\n",
       "      <td>4</td>\n",
       "      <td>Y</td>\n",
       "      <td>Seattle</td>\n",
       "    </tr>\n",
       "    <tr>\n",
       "      <th>2</th>\n",
       "      <td>7202016</td>\n",
       "      <td>39820030</td>\n",
       "      <td>2015-07-26</td>\n",
       "      <td>37722850</td>\n",
       "      <td>Ian</td>\n",
       "      <td>Very spacious apartment, and in a great neighborhood.  This is the kind of apartment I wish I had!\\r\\n\\r\\nDidn't really get to meet Kelly until I was on my out, but she was always readily available by phone. \\r\\n\\r\\nI believe the only \"issue\" (if you want to call it that) was finding a place to park, but I sincerely doubt its easy to park anywhere in a residential area after 5 pm on a Friday</td>\n",
       "      <td>1</td>\n",
       "      <td>Y</td>\n",
       "      <td>Seattle</td>\n",
       "    </tr>\n",
       "    <tr>\n",
       "      <th>3</th>\n",
       "      <td>7202016</td>\n",
       "      <td>40813543</td>\n",
       "      <td>2015-08-02</td>\n",
       "      <td>33671805</td>\n",
       "      <td>George</td>\n",
       "      <td>Close to Seattle Center and all it has to offer - ballet, theater, museum, Space Needle, restaurants of all ilk just blocks away, and the Metropolitan (probably the coolest grocer you'll ever find). Easy to find and Kelly was warm, welcoming, and really interesting to talk to.</td>\n",
       "      <td>0</td>\n",
       "      <td>N</td>\n",
       "      <td>Seattle</td>\n",
       "    </tr>\n",
       "    <tr>\n",
       "      <th>4</th>\n",
       "      <td>7202016</td>\n",
       "      <td>41986501</td>\n",
       "      <td>2015-08-10</td>\n",
       "      <td>34959538</td>\n",
       "      <td>Ming</td>\n",
       "      <td>Kelly was a great host and very accommodating in a great neighborhood. She has some great coffee and while I wasn't around much during my stay the time I spent interacting with her was very pleasant. \\r\\n\\r\\nThe apartment is in a great location and very close to the Seattle Center. The neighborhood itself has a lot of good food as well!</td>\n",
       "      <td>5</td>\n",
       "      <td>Y</td>\n",
       "      <td>Seattle</td>\n",
       "    </tr>\n",
       "  </tbody>\n",
       "</table>\n",
       "</div>"
      ],
      "text/plain": [
       "   listing_id        id        date  reviewer_id reviewer_name  \\\n",
       "0  7202016     38917982  2015-07-19  28943674     Bianca         \n",
       "1  7202016     39087409  2015-07-20  32440555     Frank          \n",
       "2  7202016     39820030  2015-07-26  37722850     Ian            \n",
       "3  7202016     40813543  2015-08-02  33671805     George         \n",
       "4  7202016     41986501  2015-08-10  34959538     Ming           \n",
       "\n",
       "                                                                                                                                                                                                                                                                                                                                                                                                         comments  \\\n",
       "0  Cute and cozy place. Perfect location to everything!                                                                                                                                                                                                                                                                                                                                                             \n",
       "1  Kelly has a great room in a very central location. \\r\\nBeautiful building , architecture and a style that we really like. \\r\\nWe felt guite at home here and wish we had spent more time.\\r\\nWent for a walk and found Seattle Center with a major food festival in progress. What a treat.\\r\\nVisited the Space Needle and the Chihuly Glass exhibit. Then Pikes Place Market. WOW.  Thanks for a great stay.   \n",
       "2  Very spacious apartment, and in a great neighborhood.  This is the kind of apartment I wish I had!\\r\\n\\r\\nDidn't really get to meet Kelly until I was on my out, but she was always readily available by phone. \\r\\n\\r\\nI believe the only \"issue\" (if you want to call it that) was finding a place to park, but I sincerely doubt its easy to park anywhere in a residential area after 5 pm on a Friday       \n",
       "3  Close to Seattle Center and all it has to offer - ballet, theater, museum, Space Needle, restaurants of all ilk just blocks away, and the Metropolitan (probably the coolest grocer you'll ever find). Easy to find and Kelly was warm, welcoming, and really interesting to talk to.                                                                                                                            \n",
       "4  Kelly was a great host and very accommodating in a great neighborhood. She has some great coffee and while I wasn't around much during my stay the time I spent interacting with her was very pleasant. \\r\\n\\r\\nThe apartment is in a great location and very close to the Seattle Center. The neighborhood itself has a lot of good food as well!                                                               \n",
       "\n",
       "   positive_comments positive_comments_flag     city  \n",
       "0  1                  Y                      Seattle  \n",
       "1  4                  Y                      Seattle  \n",
       "2  1                  Y                      Seattle  \n",
       "3  0                  N                      Seattle  \n",
       "4  5                  Y                      Seattle  "
      ]
     },
     "execution_count": 35,
     "metadata": {},
     "output_type": "execute_result"
    }
   ],
   "source": [
    "overall_reviews.head()"
   ]
  },
  {
   "cell_type": "code",
   "execution_count": 36,
   "metadata": {},
   "outputs": [
    {
     "name": "stdout",
     "output_type": "stream",
     "text": [
      "                                 txns\n",
      "city    positive_comments_flag       \n",
      "Boston  N                       8878 \n",
      "        Y                       59397\n",
      "Seattle N                       6090 \n",
      "        Y                       78759\n"
     ]
    }
   ],
   "source": [
    "# Reviews summarize by City\n",
    "reviews_summarize = overall_reviews.groupby(['city', 'positive_comments_flag']).agg({'id':'count'}).rename(columns={'id':'txns'})\n",
    "print(reviews_summarize)"
   ]
  },
  {
   "cell_type": "code",
   "execution_count": 37,
   "metadata": {},
   "outputs": [
    {
     "name": "stdout",
     "output_type": "stream",
     "text": [
      "Percentage of positive reviews in Boston: 87.00%\n",
      "Percentage of positive reviews in Seattle: 92.82%\n"
     ]
    }
   ],
   "source": [
    "# To get the positive reviews in %\n",
    "## Boston ##\n",
    "b_positive_reviews = overall_reviews.query(\"city == 'Boston' and positive_comments_flag == 'Y'\").count()['id']\n",
    "b_percentage = b_positive_reviews/b_reviews.shape[0]\n",
    "print(\"Percentage of positive reviews in Boston: \"+\"{:.2%}\".format(b_percentage))\n",
    "\n",
    "## Seattle ##\n",
    "s_positive_reviews = overall_reviews.query(\"city == 'Seattle' and positive_comments_flag == 'Y'\").count()['id']\n",
    "s_percentage = s_positive_reviews/s_reviews.shape[0]\n",
    "print(\"Percentage of positive reviews in Seattle: \"+\"{:.2%}\".format(s_percentage))"
   ]
  },
  {
   "cell_type": "markdown",
   "metadata": {},
   "source": [
    "***Findings:**\n",
    "\n",
    "Both Boston and Seattle are getting excellent feedback from AirBNB guests and Seattle city is slightly outstanding with ~6p.p."
   ]
  }
 ],
 "metadata": {
  "kernelspec": {
   "display_name": "Python 3",
   "language": "python",
   "name": "python3"
  },
  "language_info": {
   "codemirror_mode": {
    "name": "ipython",
    "version": 3
   },
   "file_extension": ".py",
   "mimetype": "text/x-python",
   "name": "python",
   "nbconvert_exporter": "python",
   "pygments_lexer": "ipython3",
   "version": "3.6.8"
  }
 },
 "nbformat": 4,
 "nbformat_minor": 2
}
